{
 "cells": [
  {
   "cell_type": "markdown",
   "id": "b3868d3a",
   "metadata": {},
   "source": [
    "## Q11. Write a python program to find a factorial of a number"
   ]
  },
  {
   "cell_type": "code",
   "execution_count": null,
   "id": "6260bb78",
   "metadata": {},
   "outputs": [],
   "source": [
    "num=int(input(\"Enter a number: \"))  # taking the input from the user\n",
    "factorial=1\n",
    "if num<0:\n",
    "    print(\"factorial does not exist for negative numbers\")\n",
    "elif num==0:\n",
    "    print(\"factorial of 0 is 1\")\n",
    "else:\n",
    "    for i in range(1,num+1):\n",
    "        factorial=factorial*i\n",
    "    print(\"The factorial of \",num,\" is \",factorial)    "
   ]
  },
  {
   "cell_type": "markdown",
   "id": "d749dc35",
   "metadata": {},
   "source": [
    "## Q12. Write a python program to find whether the number is prime or composite"
   ]
  },
  {
   "cell_type": "code",
   "execution_count": null,
   "id": "770c28f1",
   "metadata": {},
   "outputs": [],
   "source": [
    "num=int(input(\"Enter a number: \"))  # taking the input from the user\n",
    "if num>1:\n",
    "    for i in range(2,num):\n",
    "        if (num%i)==0:\n",
    "            print(num,\" is not a Prime number but it is a composite number\")\n",
    "            break\n",
    "    else:\n",
    "            print(num,\" is a Prime number\")\n",
    "                    \n",
    "elif num==0 or 1:\n",
    "    print(num,\" is neither a Prime Nor a Composite number \")\n"
   ]
  },
  {
   "cell_type": "markdown",
   "id": "a620fb56",
   "metadata": {},
   "source": [
    "## Q13. Write a python program to check whether a given string is palindrome or not."
   ]
  },
  {
   "cell_type": "code",
   "execution_count": null,
   "id": "10319e4b",
   "metadata": {},
   "outputs": [],
   "source": [
    "string= input(\"Enter the String : \")   # taking the input from the user\n",
    "\n",
    "# converting the string into the lowercase\n",
    "\n",
    "string=string.lower()\n",
    "\n",
    "# reversing the string\n",
    "\n",
    "rev_string=string[::-1]\n",
    "\n",
    "if list(string)==list(rev_string):\n",
    "    print(\"The String is Palindrome\")\n",
    "else:\n",
    "    print(\"the String is not Palindrome \")"
   ]
  },
  {
   "cell_type": "markdown",
   "id": "8739dc94",
   "metadata": {},
   "source": [
    "## Q14. Write a Python program to get the third side of right-angled triangle from two given sides."
   ]
  },
  {
   "cell_type": "code",
   "execution_count": null,
   "id": "768ccd25",
   "metadata": {},
   "outputs": [],
   "source": [
    "import math\n",
    "def pythagoras(base,height,hypotenuse):\n",
    "    if base==str(\"x\"):\n",
    "        return math.sqrt((hypotenuse**2)-(height**2))\n",
    "    elif height==str(\"x\"):\n",
    "        return math.sqrt((hypotenuse**2)-(base**2))\n",
    "    elif hypotenuse==str(\"x\"):\n",
    "        return math.sqrt((height**2)+(base**2))\n",
    "   \n",
    "\n",
    "print(pythagoras(3,4,'x'))      \n",
    "print(pythagoras(3,'x',4))\n",
    "print(pythagoras('x',3,4))\n"
   ]
  },
  {
   "cell_type": "markdown",
   "id": "b41dcbe0",
   "metadata": {},
   "source": [
    "## Q15. Write a python program to print the frequency of each of the characters present in a given string."
   ]
  },
  {
   "cell_type": "code",
   "execution_count": null,
   "id": "542a6e4b",
   "metadata": {},
   "outputs": [],
   "source": [
    "string=input(\"Enter the string: \")\n",
    "string=string.lower()\n",
    "freq = {}\n",
    "  \n",
    "for i in string:\n",
    "    if i in freq:\n",
    "        freq[i] += 1\n",
    "    else:\n",
    "        freq[i] = 1\n",
    "print (\"Count of all characters in String is :\\n\" , freq)        "
   ]
  },
  {
   "cell_type": "code",
   "execution_count": null,
   "id": "4cb5fa56",
   "metadata": {},
   "outputs": [],
   "source": []
  }
 ],
 "metadata": {
  "kernelspec": {
   "display_name": "Python 3",
   "language": "python",
   "name": "python3"
  },
  "language_info": {
   "codemirror_mode": {
    "name": "ipython",
    "version": 3
   },
   "file_extension": ".py",
   "mimetype": "text/x-python",
   "name": "python",
   "nbconvert_exporter": "python",
   "pygments_lexer": "ipython3",
   "version": "3.8.8"
  }
 },
 "nbformat": 4,
 "nbformat_minor": 5
}
