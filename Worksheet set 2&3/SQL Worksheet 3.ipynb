{
 "cells": [
  {
   "cell_type": "code",
   "execution_count": 1,
   "id": "0e1838a9",
   "metadata": {},
   "outputs": [],
   "source": [
    "import mysql.connector"
   ]
  },
  {
   "cell_type": "code",
   "execution_count": 2,
   "id": "6baa4bfe",
   "metadata": {},
   "outputs": [
    {
     "name": "stdout",
     "output_type": "stream",
     "text": [
      "<mysql.connector.connection_cext.CMySQLConnection object at 0x000002924D5A7DF0>\n"
     ]
    }
   ],
   "source": [
    "mydb=mysql.connector.connect(\n",
    " host=\"localhost\",user=\"root\",password=\"amansaxena123\")\n",
    "print(mydb)"
   ]
  },
  {
   "cell_type": "code",
   "execution_count": 6,
   "id": "6bc2c6db",
   "metadata": {},
   "outputs": [
    {
     "name": "stdout",
     "output_type": "stream",
     "text": [
      "('amandatabase',)\n",
      "('amandatabase1',)\n",
      "('information_schema',)\n",
      "('mysql',)\n",
      "('performance_schema',)\n",
      "('product',)\n",
      "('sakila',)\n",
      "('sys',)\n",
      "('world',)\n"
     ]
    }
   ],
   "source": [
    "mycursor=mydb.cursor()\n",
    "mycursor.execute(\"show databases\")\n",
    "for x in mycursor:\n",
    "    print(x)\n",
    "    "
   ]
  },
  {
   "cell_type": "code",
   "execution_count": 4,
   "id": "982f8f19",
   "metadata": {},
   "outputs": [],
   "source": [
    "mycursor.execute(\"create database Product\")"
   ]
  },
  {
   "cell_type": "code",
   "execution_count": 5,
   "id": "4f2e27ae",
   "metadata": {},
   "outputs": [],
   "source": [
    "mydb=mysql.connector.connect(\n",
    " host=\"localhost\",user=\"root\",password=\"amansaxena123\",database=\"Product\")"
   ]
  },
  {
   "cell_type": "markdown",
   "id": "0fe1a35d",
   "metadata": {},
   "source": [
    "### Ans 1"
   ]
  },
  {
   "cell_type": "code",
   "execution_count": 7,
   "id": "33574607",
   "metadata": {},
   "outputs": [],
   "source": [
    "mycursor=mydb.cursor()\n",
    "mycursor.execute(\"create table customers(customerNumber INTEGER(6),customerName VARCHAR(10),contactLastName VARCHAR(10),contactFirstName VARCHAR(10),Phone INTEGER(10),AddressLine1 VARCHAR(15),AddressLine2 VARCHAR(15),city VARCHAR(10),state VARCHAR(10), postalcode INTEGER(7),Country VARCHAR(10), salesRepEmployeeNumber INTEGER(10),creditLimit INTEGER(10))\")"
   ]
  },
  {
   "cell_type": "markdown",
   "id": "1a39847e",
   "metadata": {},
   "source": [
    "### Ans 2"
   ]
  },
  {
   "cell_type": "code",
   "execution_count": 10,
   "id": "4179541a",
   "metadata": {},
   "outputs": [],
   "source": [
    "mycursor=mydb.cursor()\n",
    "mycursor.execute(\"create table orders(orderNumber INTEGER(6),orderDate INTEGER(10),requiredDate INTEGER(10),shippedDate INTEGER(10),status VARCHAR(10),comments VARCHAR(10),customerNumber INTEGER(10))\")"
   ]
  },
  {
   "cell_type": "markdown",
   "id": "6b67640c",
   "metadata": {},
   "source": [
    "### Ans 3"
   ]
  },
  {
   "cell_type": "code",
   "execution_count": null,
   "id": "1a0f6ea0",
   "metadata": {},
   "outputs": [],
   "source": [
    "mycursor.execute(\"SELECT * FROM orders\")\n",
    "muresult=mycursor.fetchall()\n",
    "for x in myresult:\n",
    "    print(x)"
   ]
  },
  {
   "cell_type": "markdown",
   "id": "b459bcf4",
   "metadata": {},
   "source": [
    "### Ans 4"
   ]
  },
  {
   "cell_type": "markdown",
   "id": "05d9a93f",
   "metadata": {},
   "source": [
    "#### Writing only queries"
   ]
  },
  {
   "cell_type": "code",
   "execution_count": null,
   "id": "6c808b9e",
   "metadata": {},
   "outputs": [],
   "source": [
    "\"SELECT comments FROM orders\""
   ]
  },
  {
   "cell_type": "markdown",
   "id": "33557920",
   "metadata": {},
   "source": [
    "### Ans 5"
   ]
  },
  {
   "cell_type": "code",
   "execution_count": null,
   "id": "5679027d",
   "metadata": {},
   "outputs": [],
   "source": [
    "\"SELECT date(orderDate), COUNT(orderNumber) AS num_orders FROM orders GROUP BY date(orderDate)\""
   ]
  },
  {
   "cell_type": "markdown",
   "id": "9995bc96",
   "metadata": {},
   "source": [
    "### Ans 6"
   ]
  },
  {
   "cell_type": "code",
   "execution_count": null,
   "id": "87c720c5",
   "metadata": {},
   "outputs": [],
   "source": [
    "\"SELECT employeeNumber, LastName, FirstName FROM employee\""
   ]
  },
  {
   "cell_type": "markdown",
   "id": "bf367e09",
   "metadata": {},
   "source": [
    "### Ans 7"
   ]
  },
  {
   "cell_type": "code",
   "execution_count": null,
   "id": "72781cb6",
   "metadata": {},
   "outputs": [],
   "source": [
    "\"SELECT orderNumber , customerName FROM orders\""
   ]
  },
  {
   "cell_type": "markdown",
   "id": "a9febd4a",
   "metadata": {},
   "source": [
    "### Ans 8"
   ]
  },
  {
   "cell_type": "code",
   "execution_count": null,
   "id": "9a5451c1",
   "metadata": {},
   "outputs": [],
   "source": [
    "\"SELECT customerName,salesRepEmployeeNumber FROM customers\""
   ]
  },
  {
   "cell_type": "markdown",
   "id": "9051e5f9",
   "metadata": {},
   "source": [
    "### Ans 10"
   ]
  },
  {
   "cell_type": "code",
   "execution_count": null,
   "id": "ba33c512",
   "metadata": {},
   "outputs": [],
   "source": [
    "\"SELECT productName, MSRP, productDescription FROM product\""
   ]
  }
 ],
 "metadata": {
  "kernelspec": {
   "display_name": "Python 3",
   "language": "python",
   "name": "python3"
  },
  "language_info": {
   "codemirror_mode": {
    "name": "ipython",
    "version": 3
   },
   "file_extension": ".py",
   "mimetype": "text/x-python",
   "name": "python",
   "nbconvert_exporter": "python",
   "pygments_lexer": "ipython3",
   "version": "3.8.8"
  }
 },
 "nbformat": 4,
 "nbformat_minor": 5
}
